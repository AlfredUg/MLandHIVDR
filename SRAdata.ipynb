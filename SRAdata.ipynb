{
 "cells": [
  {
   "cell_type": "markdown",
   "id": "f85e6287-7103-4566-bcef-58586dfdf4a1",
   "metadata": {},
   "source": [
    "## ML-based detection of HIV drug resistance mutations"
   ]
  },
  {
   "cell_type": "markdown",
   "id": "957c6645-33f4-4be4-892c-cccea47e46bc",
   "metadata": {},
   "source": [
    "This project uses publicly available HIV-1 NGS data.  "
   ]
  },
  {
   "cell_type": "markdown",
   "id": "29c054e3-50cc-47cd-a769-b502a8929677",
   "metadata": {},
   "source": [
    "### Data sources"
   ]
  },
  {
   "cell_type": "markdown",
   "id": "2b022a83-a704-4bf7-af4e-9c3f5fe08253",
   "metadata": {},
   "source": [
    "The data used in this project is publicly available HIV-1 NGS data. It is obtained from the Sequence Read Archive (SRA) and the European Nucleotide Archive (ENA), accessions numbers; PRJNA517147, PRJNA486832, PRJNA669549, PRJNA761121, PRJNA340290, PRJNA531904, PRJDB3502, PRJNA448668 and PRJNA554675. The data were generated as part of projects investing the diversity of HIV-1 in different populations and application of NGS technologies in HIV drug resistance testing. The table below shows the number of samples and treatment status of the study participants. More on data description [here](#)."
   ]
  },
  {
   "cell_type": "markdown",
   "id": "2236976c-7867-45ce-9418-8e80b7bdbccc",
   "metadata": {},
   "source": [
    "| No. |  Bioproject  | No. of samples | Genome region | Population | Treatment status | Line of treatment|Reference|\n",
    "|-----|--------------|----------------|---------------|------------|------------------|------------------|---------|\n",
    "| 1   |  PRJNA517147 | 68             | PR/RT         |    USA     |    Treated       |                  |         |\n",
    "| 2   |  PRJNA486832 | 125            | PR/RT/IN      |    USA     |    Treated       |                  |         |\n",
    "| 3   |  PRJNA669549 | 874            | PR/RT         |South Africa|    Naive         |   1st/2nd/3rd    |         |\n",
    "| 4   |  PRJNA761121 | 42             | PR/RT/IN      |   Nigeria  |    Treated       |                  |         |\n",
    "| 5   |  PRJNA340290 | 255            | PR/RT         | Nicaragura |    Naive         |                  |         |\n",
    "| 6   |  PRJNA531904 | 109            | PR/RT/IN      |  Ethiopia  |    Naive         |                  |         |\n",
    "| 7   |  PRJDB3502   | 92             | PR/RT/IN      |   Japan    |    Treated       |                  |         |\n",
    "| 8   |  PRJNA448668 | 134            | IN            |   France   |    Treated       |                  |         |\n",
    "| 9   |  PRJNA554675 | 380            | IN            |   Uganda   |  Naive/Treated   |   1st/2nd/3rd    |         |\n",
    "| 10  |  PRJNA419915 | 54             | PR/RT         |   Brazil   |  Treated         |                  |         |\n",
    "\n",
    "PR: Protease, RT: Reverse Transcriptase, IN: Integrase, USA: United States of America"
   ]
  },
  {
   "cell_type": "markdown",
   "id": "6bce4983-f5d7-4ba4-abf7-0ab1a66b64b9",
   "metadata": {},
   "source": [
    "### Bioinformatics data analysis"
   ]
  },
  {
   "cell_type": "markdown",
   "id": "906bc838-ca3d-4d65-b129-dc594e739fa7",
   "metadata": {},
   "source": [
    "FASTQ files where analysed using the procedure outline [here](#). Briefly, the quality of the data was checked using FastQC and aggregated using MultiQC. Adaptor and quality trimming was done using trim-galore. As part of the quasitools pipeline, trimmed reads were aligned to the HIV subtype B reference genome, accession number HXB. HIV variant calling was done using HyDRA. Known HIV drug resistance mutations were detected using the Stanford HIV drug resistance database. Variant call data was combined accross samples with genome region, population and treatment status data.  An amino acid amino acid mutation was represented as a binary variable with 1 for presence and 0 for its absence in a certain sample. Lastly, the data was grouped by genomic region i.e PR, RT, IN and written off as CSV files."
   ]
  },
  {
   "cell_type": "markdown",
   "id": "952e3fc0-d6b5-489d-b51a-f25f7f3612b8",
   "metadata": {},
   "source": [
    "### Machine learning models"
   ]
  },
  {
   "cell_type": "markdown",
   "id": "e4a7b0d0-6730-4134-a4fd-20236cf09011",
   "metadata": {},
   "source": [
    "Using the data generated above, we set out to build machine learning models to classify between sequences from naive and treated patients. In this case, we are using the amino mutations as features. The target is treatment status (naive/treated). Our aim here is 2-fold;\n",
    "\n",
    "* To identify the best performing model.\n",
    "* To identify the most important features (amino acid mutations) that drive the prediction ability of the models.\n",
    "\n",
    "We use three machine learning algorithms namely; Support Vector Machines (SVM), Random Forests (RF) and Gradient Boosting Machines (GBM). The choice of these algorithms is based on the interpretability and popularity with machine-learning based HIV drug resistance prediction. Classifier performance is based on Area Under the Receiver Operating charactieristic Curve (ROC). Model performance is assessed using model-specific importance measures, that is coefficients for SVMs and Gini impunity/Mean decrease accuracy in RF and GBM. We use sklearn for Model building, evaluation and feature importance. We use packages plotnine and seaborn for visualising the results. This section is described in detail [here](#)."
   ]
  },
  {
   "cell_type": "markdown",
   "id": "45bf96bf-cfa3-49f9-9dc9-8e46519ed4bc",
   "metadata": {},
   "source": [
    "Import required libraries"
   ]
  },
  {
   "cell_type": "code",
   "execution_count": 1,
   "id": "c7fd8236-3325-4d47-a2e3-468880641c0f",
   "metadata": {},
   "outputs": [],
   "source": [
    "from sklearn.ensemble import RandomForestClassifier,GradientBoostingClassifier\n",
    "from sklearn.svm import SVC\n",
    "from sklearn.inspection import permutation_importance, partial_dependence\n",
    "from sklearn.model_selection import train_test_split\n",
    "from sklearn.preprocessing import StandardScaler\n",
    "from sklearn.metrics import classification_report, confusion_matrix, accuracy_score, roc_curve, auc, ConfusionMatrixDisplay\n",
    "import numpy as np\n",
    "import pandas as pd\n",
    "from plotnine import * "
   ]
  },
  {
   "cell_type": "markdown",
   "id": "3c684fe4-5c6e-4eba-ba0f-930b8ba69f50",
   "metadata": {},
   "source": [
    "Loading amino acid mutation datasets"
   ]
  },
  {
   "cell_type": "code",
   "execution_count": 2,
   "id": "0ed9f85a-d3da-401b-9eae-9107b83be64a",
   "metadata": {},
   "outputs": [],
   "source": [
    "variants_data = pd.read_csv('/Users/alfred/RTI.csv')\n",
    "#variants_data.head()"
   ]
  },
  {
   "cell_type": "markdown",
   "id": "fb98806e-3de3-451e-aff7-fab88c4ea010",
   "metadata": {},
   "source": [
    "Specify the parameters required downstream"
   ]
  },
  {
   "cell_type": "code",
   "execution_count": 3,
   "id": "aa960004-b2e0-43b4-bedb-bb3d126271f7",
   "metadata": {},
   "outputs": [],
   "source": [
    "target = 'Status'\n",
    "drop_vars = ['Status','Sample', 'Subtype']\n",
    "test_size = 0.2\n",
    "pos_label = 'Treated'\n",
    "n_top_features = 20\n",
    "gene = 'RT'\n",
    "algor_colors = [\"#6082B6\",\"#2AAA8A\",\"#E3963E\"]"
   ]
  },
  {
   "cell_type": "markdown",
   "id": "e90a6f4e-6838-4553-81ad-03b9cd049dfb",
   "metadata": {},
   "source": [
    "Isolate the target variable and the feature variables"
   ]
  },
  {
   "cell_type": "code",
   "execution_count": 4,
   "id": "96d0f0c4-e5ab-48b4-8c1b-2abff792a3d0",
   "metadata": {},
   "outputs": [],
   "source": [
    "y = variants_data[[target]]\n",
    "X = variants_data.drop(drop_vars, axis = 'columns')"
   ]
  },
  {
   "cell_type": "markdown",
   "id": "a4c22a2c-2993-44d4-8e19-efa0da7e10c7",
   "metadata": {},
   "source": [
    "Split data into training and test dataset. Here we use 20% of the dataset as test data"
   ]
  },
  {
   "cell_type": "code",
   "execution_count": 5,
   "id": "b9772fa8-701f-4b05-90b4-e5a9d7ed5c0a",
   "metadata": {},
   "outputs": [],
   "source": [
    "X_train, X_test, y_train, y_test = train_test_split(X, y, test_size=test_size, random_state=0)\n",
    "#sc = StandardScaler()\n",
    "#X_train = sc.fit_transform(X_train)\n",
    "#X_test = sc.transform(X_test)"
   ]
  },
  {
   "cell_type": "markdown",
   "id": "e0e68f3b-70e7-4b4e-854a-0123d01ebfdd",
   "metadata": {},
   "source": [
    "#### Suport Vector Machine classifier"
   ]
  },
  {
   "cell_type": "code",
   "execution_count": 6,
   "id": "08d9a069-a525-45ce-acda-39ee0a72aae0",
   "metadata": {},
   "outputs": [
    {
     "name": "stderr",
     "output_type": "stream",
     "text": [
      "/Users/alfred/miniconda3/lib/python3.9/site-packages/sklearn/utils/validation.py:993: DataConversionWarning: A column-vector y was passed when a 1d array was expected. Please change the shape of y to (n_samples, ), for example using ravel().\n"
     ]
    },
    {
     "data": {
      "text/plain": [
       "SVC(kernel='linear')"
      ]
     },
     "execution_count": 6,
     "metadata": {},
     "output_type": "execute_result"
    }
   ],
   "source": [
    "clf = SVC(kernel='linear')\n",
    "clf.fit(X_train, y_train)"
   ]
  },
  {
   "cell_type": "markdown",
   "id": "2400f4ba-8be7-4bfd-bbba-fb98778e9aab",
   "metadata": {},
   "source": [
    "Run the classifier trained above on the test dataset, obtain the ROC curve and the AUC. "
   ]
  },
  {
   "cell_type": "code",
   "execution_count": 7,
   "id": "fed1d274-0ffa-474c-a1ca-281042b958af",
   "metadata": {},
   "outputs": [],
   "source": [
    "y_pred = clf.predict(X_test)\n",
    "#print(confusion_matrix(y_test,y_pred))\n",
    "y_score = clf.decision_function(X_test)\n",
    "fpr_svm, tpr_svm, thr_svm = roc_curve(y_test, y_score, pos_label=pos_label)\n",
    "auc_svm = auc(fpr_svm, tpr_svm)\n",
    "cm = ConfusionMatrixDisplay(confusion_matrix(y_test,y_pred))\n",
    "#cm.plot()"
   ]
  },
  {
   "cell_type": "code",
   "execution_count": 8,
   "id": "3fdeddb2-2c12-4f6f-9e82-b0727235bd50",
   "metadata": {},
   "outputs": [
    {
     "name": "stdout",
     "output_type": "stream",
     "text": [
      "Sensitivty: 0.8\n",
      "Specificity: 0.9428571428571428\n",
      "AUC: 0.97\n"
     ]
    }
   ],
   "source": [
    "tn = cm.confusion_matrix[0,0]\n",
    "fp = cm.confusion_matrix[0,1]\n",
    "fn = cm.confusion_matrix[1,0]\n",
    "tp = cm.confusion_matrix[1,1]\n",
    "\n",
    "sens = tp/(tp+fn)\n",
    "spec = tn/(tn+fp)\n",
    "\n",
    "print(\"Sensitivty: \" + str(sens))\n",
    "print(\"Specificity: \" + str(spec))\n",
    "print(\"AUC: \" + str(round(auc_svm,2)))"
   ]
  },
  {
   "cell_type": "markdown",
   "id": "1f01a055-3072-4af5-bab0-fe1c9646cbff",
   "metadata": {},
   "source": [
    "Obtain feature importance. Pick the coefficients of the model, convert the data in a pandas dataframe, sort it by the feature importance and pick a given number of top features (20 in this case) to be used for visualisations."
   ]
  },
  {
   "cell_type": "code",
   "execution_count": 9,
   "id": "751cc264-adc0-454e-ac6b-28ff45867e0c",
   "metadata": {},
   "outputs": [],
   "source": [
    "model_imp = clf.coef_[0] #this is for SVM linear\n",
    "feature_names = list(X.columns.values)\n",
    "importance = list(abs(model_imp))\n",
    "importance_dict = {'Feature_names':feature_names, 'Importance':importance, 'Algorithm':'SVM'+' AUC=('+str(round(auc_svm,2))+')', 'Gene':gene}\n",
    "imp_df = pd.DataFrame(importance_dict)\n",
    "imp_df_svm = imp_df.sort_values('Importance', ascending=False)\n",
    "imp_df_svm = imp_df_svm.head(n_top_features)"
   ]
  },
  {
   "cell_type": "markdown",
   "id": "4159c39c-273a-4efe-aaef-f8d294631949",
   "metadata": {},
   "source": [
    "#### Random forest classifier"
   ]
  },
  {
   "cell_type": "code",
   "execution_count": 10,
   "id": "ed5b897b-e8fd-4de8-bf42-90425ad604e6",
   "metadata": {},
   "outputs": [
    {
     "name": "stderr",
     "output_type": "stream",
     "text": [
      "/var/folders/m7/ngw1y0f943x_nkt8t8k6hd180000gn/T/ipykernel_20659/227214915.py:2: DataConversionWarning: A column-vector y was passed when a 1d array was expected. Please change the shape of y to (n_samples,), for example using ravel().\n"
     ]
    },
    {
     "name": "stdout",
     "output_type": "stream",
     "text": [
      "Sensitivty: 0.8\n",
      "Specificity: 0.9928571428571429\n",
      "AUC: 0.98\n"
     ]
    }
   ],
   "source": [
    "clf=RandomForestClassifier(n_estimators=100)\n",
    "clf.fit(X_train,y_train)\n",
    "y_pred=clf.predict(X_test)\n",
    "#print(confusion_matrix(y_test,y_pred))\n",
    "y_test_pred = clf.predict_proba(X_test)\n",
    "model_imp = clf.feature_importances_ #this is for RF and GBM\n",
    "# perm_imp = permutation_importance(clf, X_train, y_train, n_repeats=10, random_state=42)\n",
    "fpr_rf, tpr_rf, thr_rf = roc_curve(y_test, y_test_pred[:,1], pos_label=pos_label)\n",
    "auc_rf = auc(fpr_rf, tpr_rf)\n",
    "feature_names = list(X.columns.values)\n",
    "importance = list(abs(model_imp))\n",
    "importance_dict = {'Feature_names':feature_names, 'Importance':importance, 'Algorithm':'RF'+' AUC=('+str(round(auc_rf,2))+')', 'Gene':gene}\n",
    "imp_df = pd.DataFrame(importance_dict)\n",
    "imp_df_rf = imp_df.sort_values('Importance', ascending=False)\n",
    "imp_df_rf = imp_df_rf.head(n_top_features)\n",
    "\n",
    "cm = ConfusionMatrixDisplay(confusion_matrix(y_test,y_pred))\n",
    "tn = cm.confusion_matrix[0,0]\n",
    "fp = cm.confusion_matrix[0,1]\n",
    "fn = cm.confusion_matrix[1,0]\n",
    "tp = cm.confusion_matrix[1,1]\n",
    "\n",
    "sens = tp/(tp+fn)\n",
    "spec = tn/(tn+fp)\n",
    "\n",
    "print(\"Sensitivty: \" + str(sens))\n",
    "print(\"Specificity: \" + str(spec))\n",
    "print(\"AUC: \" + str(round(auc_rf,2)))\n",
    "#cm.plot()"
   ]
  },
  {
   "cell_type": "markdown",
   "id": "c867cf6a-a702-4e6e-a080-3a2d9847e9d7",
   "metadata": {},
   "source": [
    "#### Gradient Boosting Machines"
   ]
  },
  {
   "cell_type": "code",
   "execution_count": 11,
   "id": "3f7c7565-8389-4a1f-9c1d-9011cc7cf7a2",
   "metadata": {},
   "outputs": [
    {
     "name": "stderr",
     "output_type": "stream",
     "text": [
      "/Users/alfred/miniconda3/lib/python3.9/site-packages/sklearn/ensemble/_gb.py:494: DataConversionWarning: A column-vector y was passed when a 1d array was expected. Please change the shape of y to (n_samples, ), for example using ravel().\n"
     ]
    },
    {
     "name": "stdout",
     "output_type": "stream",
     "text": [
      "Sensitivty: 0.74\n",
      "Specificity: 0.9857142857142858\n",
      "AUC: 0.98\n"
     ]
    }
   ],
   "source": [
    "clf=GradientBoostingClassifier(n_estimators=100)\n",
    "clf.fit(X_train,y_train)\n",
    "y_pred=clf.predict(X_test)\n",
    "y_test_pred = clf.predict_proba(X_test)\n",
    "model_imp = clf.feature_importances_ #this is for RF and GBM\n",
    "fpr_gb, tpr_gb, thr_gb = roc_curve(y_test, y_test_pred[:,1], pos_label=pos_label)\n",
    "auc_gb = auc(fpr_gb, tpr_gb)\n",
    "feature_names = list(X.columns.values)\n",
    "importance = list(abs(model_imp))\n",
    "importance_dict = {'Feature_names':feature_names, 'Importance':importance, 'Algorithm':'GBM'+' AUC=('+str(round(auc_gb,2))+')', 'Gene':gene}\n",
    "imp_df = pd.DataFrame(importance_dict)\n",
    "imp_df_gb = imp_df.sort_values('Importance', ascending=False)\n",
    "imp_df_gb = imp_df_gb.head(n_top_features)\n",
    "\n",
    "cm = ConfusionMatrixDisplay(confusion_matrix(y_test,y_pred))\n",
    "tn = cm.confusion_matrix[0,0]\n",
    "fp = cm.confusion_matrix[0,1]\n",
    "fn = cm.confusion_matrix[1,0]\n",
    "tp = cm.confusion_matrix[1,1]\n",
    "\n",
    "sens = tp/(tp+fn)\n",
    "spec = tn/(tn+fp)\n",
    "\n",
    "print(\"Sensitivty: \" + str(sens))\n",
    "print(\"Specificity: \" + str(spec))\n",
    "print(\"AUC: \" + str(round(auc_gb,2)))\n",
    "\n",
    "#cm.plot()"
   ]
  },
  {
   "cell_type": "code",
   "execution_count": 12,
   "id": "a39cf478-1225-4a51-abb5-f99512bcec7f",
   "metadata": {},
   "outputs": [
    {
     "data": {
      "text/html": [
       "<div>\n",
       "<style scoped>\n",
       "    .dataframe tbody tr th:only-of-type {\n",
       "        vertical-align: middle;\n",
       "    }\n",
       "\n",
       "    .dataframe tbody tr th {\n",
       "        vertical-align: top;\n",
       "    }\n",
       "\n",
       "    .dataframe thead th {\n",
       "        text-align: right;\n",
       "    }\n",
       "</style>\n",
       "<table border=\"1\" class=\"dataframe\">\n",
       "  <thead>\n",
       "    <tr style=\"text-align: right;\">\n",
       "      <th></th>\n",
       "      <th>Feature_names</th>\n",
       "      <th>Importance</th>\n",
       "      <th>Algorithm</th>\n",
       "      <th>Gene</th>\n",
       "    </tr>\n",
       "  </thead>\n",
       "  <tbody>\n",
       "    <tr>\n",
       "      <th>561</th>\n",
       "      <td>S48T</td>\n",
       "      <td>0.037939</td>\n",
       "      <td>RF AUC=(0.98)</td>\n",
       "      <td>RT</td>\n",
       "    </tr>\n",
       "    <tr>\n",
       "      <th>253</th>\n",
       "      <td>I293V</td>\n",
       "      <td>0.034352</td>\n",
       "      <td>RF AUC=(0.98)</td>\n",
       "      <td>RT</td>\n",
       "    </tr>\n",
       "    <tr>\n",
       "      <th>708</th>\n",
       "      <td>V35T</td>\n",
       "      <td>0.032653</td>\n",
       "      <td>RF AUC=(0.98)</td>\n",
       "      <td>RT</td>\n",
       "    </tr>\n",
       "    <tr>\n",
       "      <th>626</th>\n",
       "      <td>T39E</td>\n",
       "      <td>0.028476</td>\n",
       "      <td>RF AUC=(0.98)</td>\n",
       "      <td>RT</td>\n",
       "    </tr>\n",
       "    <tr>\n",
       "      <th>58</th>\n",
       "      <td>E122K</td>\n",
       "      <td>0.024682</td>\n",
       "      <td>RF AUC=(0.98)</td>\n",
       "      <td>RT</td>\n",
       "    </tr>\n",
       "  </tbody>\n",
       "</table>\n",
       "</div>"
      ],
      "text/plain": [
       "    Feature_names  Importance      Algorithm Gene\n",
       "561          S48T    0.037939  RF AUC=(0.98)   RT\n",
       "253         I293V    0.034352  RF AUC=(0.98)   RT\n",
       "708          V35T    0.032653  RF AUC=(0.98)   RT\n",
       "626          T39E    0.028476  RF AUC=(0.98)   RT\n",
       "58          E122K    0.024682  RF AUC=(0.98)   RT"
      ]
     },
     "execution_count": 12,
     "metadata": {},
     "output_type": "execute_result"
    }
   ],
   "source": [
    "list_imp = [imp_df_rf, imp_df_svm, imp_df_gb]\n",
    "list_imp\n",
    "imp_df = pd.concat(list_imp)    \n",
    "imp_df.head()"
   ]
  },
  {
   "cell_type": "code",
   "execution_count": 13,
   "id": "bfd744fa-7095-4c13-9f46-0979163192be",
   "metadata": {},
   "outputs": [
    {
     "name": "stderr",
     "output_type": "stream",
     "text": [
      "/Users/alfred/miniconda3/lib/python3.9/site-packages/plotnine/ggplot.py:719: PlotnineWarning: Saving 25 x 15 in image.\n",
      "/Users/alfred/miniconda3/lib/python3.9/site-packages/plotnine/ggplot.py:722: PlotnineWarning: Filename: RT-importance-plot.png\n"
     ]
    }
   ],
   "source": [
    "plot = (ggplot(imp_df)\n",
    "    + aes(x='Feature_names', y='Importance', fill='Algorithm')\n",
    "    + geom_bar(stat=\"identity\")\n",
    "    + facet_wrap('~Algorithm', scales='free') #+ facet_wrap('~Algorithm', scales='free')\n",
    "    + theme(subplots_adjust={'wspace': 0.15})\n",
    "    + theme(panel_background=element_rect(fill='white'),\n",
    "            panel_border=element_rect(color='black',size=1),\n",
    "            axis_text_x=element_text(color='black', size=15, angle=0),\n",
    "            axis_text_y=element_text(color='black', size=15),\n",
    "            axis_title=element_text(color='black', size=20,weight='bold'),\n",
    "            legend_text=element_text(color='black', size=15),\n",
    "            legend_title=element_text(color='black', size=20,weight='bold'),\n",
    "            strip_text=element_text(color='black',size=20,weight='bold'),\n",
    "            strip_background=element_rect(color='black', fill=\"white\"),\n",
    "            \n",
    "      )\n",
    "    +scale_fill_manual(values = algor_colors)\n",
    "    +coord_flip()\n",
    "        +theme(legend_position=\"none\")\n",
    "    + ylab('Feature importance')\n",
    "    + xlab('Amino acid mutations'))\n",
    "plot.save(gene+\"-importance-plot.png\", width=25, height=15, dpi=300)"
   ]
  },
  {
   "cell_type": "code",
   "execution_count": 16,
   "id": "c6233c8d-2b65-49f3-93e7-8f8a7b904831",
   "metadata": {},
   "outputs": [
    {
     "name": "stderr",
     "output_type": "stream",
     "text": [
      "/Users/alfred/miniconda3/lib/python3.9/site-packages/plotnine/ggplot.py:719: PlotnineWarning: Saving 15 x 10 in image.\n",
      "/Users/alfred/miniconda3/lib/python3.9/site-packages/plotnine/ggplot.py:722: PlotnineWarning: Filename: RT-ROC-curve.png\n"
     ]
    }
   ],
   "source": [
    "roc_dict_svm = {'FPR':fpr_svm, 'TPR':tpr_svm, 'Algorithm':'SVM'+' AUC=('+str(round(auc_svm,2))+')', 'Gene':gene}\n",
    "roc_dict_svm = pd.DataFrame(roc_dict_svm)\n",
    "roc_dict_svm\n",
    "\n",
    "roc_dict_rf = {'FPR':fpr_rf, 'TPR':tpr_rf, 'Algorithm':'RF'+' AUC=('+str(round(auc_rf,2))+')', 'Gene':gene}\n",
    "roc_df_rf = pd.DataFrame(roc_dict_rf)\n",
    "roc_df_rf\n",
    "\n",
    "\n",
    "roc_dict_gb = {'FPR':fpr_gb, 'TPR':tpr_gb, 'Algorithm':'GBM'+' AUC=('+str(round(auc_gb,2))+')', 'Gene':gene}\n",
    "roc_df_gb = pd.DataFrame(roc_dict_gb)\n",
    "roc_df_gb\n",
    "\n",
    "\n",
    "list_roc = [roc_df_rf, roc_dict_svm, roc_df_gb]\n",
    "list_roc\n",
    "roc_df = pd.concat(list_roc)    \n",
    "roc_df.head()\n",
    "\n",
    "plot = (ggplot(roc_df)\n",
    "    + aes(x='FPR', y='TPR', color='Algorithm')\n",
    "    + geom_line(size=1)\n",
    "    + facet_wrap('~Algorithm', scales='free') #+ facet_wrap('~Algorithm', scales='free')\n",
    "    + theme(subplots_adjust={'wspace': 0.15})\n",
    "    + theme(panel_background=element_rect(fill='white'),\n",
    "            panel_border=element_rect(color='black',size=1.5),\n",
    "            axis_text_x=element_text(color='black', size=12, angle=0),\n",
    "            axis_text_y=element_text(color='black', size=12),\n",
    "            axis_title=element_text(color='black', size=15,weight='bold'),\n",
    "            legend_text=element_text(color='black', size=12),\n",
    "            legend_title=element_text(color='black', size=15,weight='bold'),\n",
    "            strip_text=element_text(color='black',size=15,weight='bold'),\n",
    "            strip_background=element_rect(color='black', fill=\"white\"),\n",
    "            \n",
    "      )\n",
    "    +scale_color_manual(values = algor_colors)\n",
    "        +theme(legend_position=\"none\")\n",
    "    + ylab('True Positive Rate')\n",
    "    + xlab('False Positive Rate'))\n",
    "plot\n",
    "plot.save(gene+\"-ROC-curve.png\", width=15, height=10, dpi=300)"
   ]
  },
  {
   "cell_type": "code",
   "execution_count": null,
   "id": "9c4c93f0-28c7-482e-a756-d0507ad84b7f",
   "metadata": {},
   "outputs": [],
   "source": []
  }
 ],
 "metadata": {
  "kernelspec": {
   "display_name": "Python 3 (ipykernel)",
   "language": "python",
   "name": "python3"
  },
  "language_info": {
   "codemirror_mode": {
    "name": "ipython",
    "version": 3
   },
   "file_extension": ".py",
   "mimetype": "text/x-python",
   "name": "python",
   "nbconvert_exporter": "python",
   "pygments_lexer": "ipython3",
   "version": "3.9.1"
  }
 },
 "nbformat": 4,
 "nbformat_minor": 5
}
