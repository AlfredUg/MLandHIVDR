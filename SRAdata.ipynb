{
 "cells": [
  {
   "cell_type": "markdown",
   "id": "f85e6287-7103-4566-bcef-58586dfdf4a1",
   "metadata": {},
   "source": [
    "## ML-based detection of HIV drug resistance mutations"
   ]
  },
  {
   "cell_type": "markdown",
   "id": "957c6645-33f4-4be4-892c-cccea47e46bc",
   "metadata": {},
   "source": [
    "This project uses publicly available HIV-1 NGS data.  "
   ]
  },
  {
   "cell_type": "markdown",
   "id": "29c054e3-50cc-47cd-a769-b502a8929677",
   "metadata": {},
   "source": [
    "### Data sources"
   ]
  },
  {
   "cell_type": "markdown",
   "id": "2b022a83-a704-4bf7-af4e-9c3f5fe08253",
   "metadata": {},
   "source": [
    "The data used in this project is publicly available HIV-1 NGS data. It is obtained from the Sequence Read Archive (SRA) and the European Nucleotide Archive (ENA), accessions numbers; PRJNA517147, PRJNA486832, PRJNA669549, PRJNA761121, PRJNA340290, PRJNA531904, PRJDB3502, PRJNA448668 and PRJNA554675. The data were generated as part of projects investing the diversity of HIV-1 in different populations and application of NGS technologies in HIV drug resistance testing. The table below shows the number of samples and treatment status of the study participants. More on data description [here](#)."
   ]
  },
  {
   "cell_type": "markdown",
   "id": "2236976c-7867-45ce-9418-8e80b7bdbccc",
   "metadata": {},
   "source": [
    "| No. |  Bioproject  | No. of samples | Genome region | Population | Treatment status | Line of treatment|Reference|\n",
    "|-----|--------------|----------------|---------------|------------|------------------|------------------|---------|\n",
    "| 1   |  PRJNA517147 | 68             | PR/RT         |    USA     |    Treated       |                  |         |\n",
    "| 2   |  PRJNA486832 | 125            | PR/RT/IN      |    USA     |    Treated       |                  |         |\n",
    "| 3   |  PRJNA669549 | 874            | PR/RT         |South Africa|    Naive         |   1st/2nd/3rd    |         |\n",
    "| 4   |  PRJNA761121 | 42             | PR/RT/IN      |   Nigeria  |    Treated       |                  |         |\n",
    "| 5   |  PRJNA340290 | 255            | PR/RT         | Nicaragura |    Naive         |                  |         |\n",
    "| 6   |  PRJNA531904 | 109            | PR/RT/IN      |  Ethiopia  |    Naive         |                  |         |\n",
    "| 7   |  PRJDB3502   | 92             | PR/RT/IN      |   Japan    |    Treated       |                  |         |\n",
    "| 8   |  PRJNA448668 | 134            | IN            |   France   |    Treated       |                  |         |\n",
    "| 9   |  PRJNA554675 | 380            | IN            |   Uganda   |  Naive/Treated   |   1st/2nd/3rd    |         |\n",
    "| 10  |  PRJNA419915 | 54             | PR/RT         |   Brazil   |  Treated         |                  |         |\n",
    "\n",
    "PR: Protease, RT: Reverse Transcriptase, IN: Integrase, USA: United States of America"
   ]
  },
  {
   "cell_type": "markdown",
   "id": "6bce4983-f5d7-4ba4-abf7-0ab1a66b64b9",
   "metadata": {
    "tags": []
   },
   "source": [
    "### Bioinformatics data analysis"
   ]
  },
  {
   "cell_type": "markdown",
   "id": "906bc838-ca3d-4d65-b129-dc594e739fa7",
   "metadata": {},
   "source": [
    "FASTQ files where analysed using the procedure outline [here](#). Briefly, the quality of the data was checked using FastQC and aggregated using MultiQC. Adaptor and quality trimming was done using trim-galore. As part of the quasitools pipeline, trimmed reads were aligned to the HIV subtype B reference genome, accession number HXB. HIV variant calling was done using HyDRA. Known HIV drug resistance mutations were detected using the Stanford HIV drug resistance database. Variant call data was combined accross samples with genome region, population and treatment status data.  An amino acid amino acid mutation was represented as a binary variable with 1 for presence and 0 for its absence in a certain sample. Lastly, the data was grouped by genomic region i.e PR, RT, IN and written off as CSV files."
   ]
  },
  {
   "cell_type": "markdown",
   "id": "952e3fc0-d6b5-489d-b51a-f25f7f3612b8",
   "metadata": {},
   "source": [
    "### Machine learning models"
   ]
  },
  {
   "cell_type": "markdown",
   "id": "e4a7b0d0-6730-4134-a4fd-20236cf09011",
   "metadata": {},
   "source": [
    "Using the data generated above, we set out to build machine learning models to classify between sequences from naive and treated patients. In this case, we are using the amino mutations as features. The target is treatment status (naive/treated). Our aim here is 2-fold;\n",
    "\n",
    "* To identify the best performing model.\n",
    "* To identify the most important features (amino acid mutations) that drive the prediction ability of the models.\n",
    "\n",
    "We use three machine learning algorithms namely; Support Vector Machines (SVM), Random Forests (RF) and Gradient Boosting Machines (GBM). The choice of these algorithms is based on the interpretability and popularity with machine-learning based HIV drug resistance prediction. Classifier performance is based on Area Under the Receiver Operating charactieristic Curve (ROC). Model performance is assessed using model-specific importance measures, that is coefficients for SVMs and Gini impunity/Mean decrease accuracy in RF and GBM. We use sklearn for Model building, evaluation and feature importance. We use packages plotnine and seaborn for visualising the results. This section is described in detail [here](#)."
   ]
  },
  {
   "cell_type": "markdown",
   "id": "45bf96bf-cfa3-49f9-9dc9-8e46519ed4bc",
   "metadata": {},
   "source": [
    "Import required libraries"
   ]
  },
  {
   "cell_type": "code",
   "execution_count": 1,
   "id": "c7fd8236-3325-4d47-a2e3-468880641c0f",
   "metadata": {},
   "outputs": [],
   "source": [
    "from sklearn.ensemble import RandomForestClassifier,GradientBoostingClassifier\n",
    "from sklearn.svm import SVC\n",
    "from sklearn.inspection import permutation_importance, partial_dependence\n",
    "from sklearn.model_selection import train_test_split\n",
    "from sklearn.preprocessing import StandardScaler\n",
    "from sklearn.metrics import classification_report, confusion_matrix, accuracy_score, roc_curve, auc, ConfusionMatrixDisplay\n",
    "import numpy as np\n",
    "import pandas as pd\n",
    "from plotnine import * "
   ]
  },
  {
   "cell_type": "markdown",
   "id": "3c684fe4-5c6e-4eba-ba0f-930b8ba69f50",
   "metadata": {
    "jp-MarkdownHeadingCollapsed": true,
    "tags": []
   },
   "source": [
    "Loading amino acid mutation datasets"
   ]
  },
  {
   "cell_type": "code",
   "execution_count": 2,
   "id": "0ed9f85a-d3da-401b-9eae-9107b83be64a",
   "metadata": {},
   "outputs": [],
   "source": [
    "variants_data = pd.read_csv('data/RTI.csv')\n",
    "#variants_data.head()\n",
    "stanford_muts = pd.read_csv('data/Stanford-resistance-comments.csv')\n",
    "stanford_mut_list = set(stanford_muts['Mutation'])"
   ]
  },
  {
   "cell_type": "markdown",
   "id": "fb98806e-3de3-451e-aff7-fab88c4ea010",
   "metadata": {},
   "source": [
    "Specify the parameters required downstream"
   ]
  },
  {
   "cell_type": "code",
   "execution_count": 3,
   "id": "aa960004-b2e0-43b4-bedb-bb3d126271f7",
   "metadata": {},
   "outputs": [],
   "source": [
    "target = 'Status'\n",
    "drop_vars = ['Status','Sample', 'Subtype']\n",
    "test_size = 0.2\n",
    "pos_label = 'Treated'\n",
    "n_top_features = 20\n",
    "gene = 'RT'\n",
    "algor_colors = [\"#6082B6\",\"#2AAA8A\",\"#E3963E\"]"
   ]
  },
  {
   "cell_type": "markdown",
   "id": "a5b978ac-2d2f-4e45-bdbf-d0a7e58c4048",
   "metadata": {},
   "source": [
    "We define some helper functions to be used for different tasks later on."
   ]
  },
  {
   "cell_type": "code",
   "execution_count": 4,
   "id": "65dfcc06-5e3c-473c-8ccd-c7922212242f",
   "metadata": {},
   "outputs": [],
   "source": [
    "def get_potential_drms(importance_df, stanford_mut_list):\n",
    "    imp_muts = importance_df[abs(importance_df.Importance)>0]\n",
    "    mut_list = set(imp_muts['Feature_names'])\n",
    "    known_drms = mut_list.intersection(stanford_mut_list)\n",
    "    potential_drms = mut_list.difference(known_drms)\n",
    "    return known_drms, potential_drms\n",
    "\n",
    "def compute_sens_spec(cm):\n",
    "    tn = cm.confusion_matrix[0,0]\n",
    "    fp = cm.confusion_matrix[0,1]\n",
    "    fn = cm.confusion_matrix[1,0]\n",
    "    tp = cm.confusion_matrix[1,1]\n",
    "    sens = tp/(tp+fn)\n",
    "    spec = tn/(tn+fp)\n",
    "    return sens, spec"
   ]
  },
  {
   "cell_type": "markdown",
   "id": "e90a6f4e-6838-4553-81ad-03b9cd049dfb",
   "metadata": {},
   "source": [
    "Isolate the target variable and the feature variables\n",
    "Split data into training and test dataset. Here we use 20% of the dataset as test data"
   ]
  },
  {
   "cell_type": "code",
   "execution_count": 5,
   "id": "96d0f0c4-e5ab-48b4-8c1b-2abff792a3d0",
   "metadata": {},
   "outputs": [],
   "source": [
    "y = variants_data[[target]].values.ravel()\n",
    "X = variants_data.drop(drop_vars, axis = 'columns')\n",
    "X_train, X_test, y_train, y_test = train_test_split(X, y, test_size=test_size, random_state=0)"
   ]
  },
  {
   "cell_type": "markdown",
   "id": "e0e68f3b-70e7-4b4e-854a-0123d01ebfdd",
   "metadata": {},
   "source": [
    "#### Suport Vector Machine classifier\n",
    "\n",
    "Run the classifier trained above on the test dataset, obtain the ROC curve and the AUC. \n",
    "Obtain feature importance. Pick the coefficients of the model, convert the data in a pandas dataframe, sort it by the feature importance and pick a given number of top features (20 in this case) to be used for visualisations."
   ]
  },
  {
   "cell_type": "code",
   "execution_count": 6,
   "id": "08d9a069-a525-45ce-acda-39ee0a72aae0",
   "metadata": {},
   "outputs": [
    {
     "name": "stdout",
     "output_type": "stream",
     "text": [
      "Sensitivity: 0.8\n",
      "Specificity: 0.94\n",
      "AUC: 0.97\n",
      "No. of known DRMs: 48\n",
      "No. of other Mutations: 401\n"
     ]
    },
    {
     "data": {
      "image/png": "[encoded data removed]",
      "text/plain": [
       "<Figure size 432x288 with 2 Axes>"
      ]
     },
     "metadata": {
      "needs_background": "light"
     },
     "output_type": "display_data"
    }
   ],
   "source": [
    "clf = SVC(kernel='linear')\n",
    "clf.fit(X_train, y_train)\n",
    "y_pred = clf.predict(X_test)\n",
    "y_score = clf.decision_function(X_test)\n",
    "\n",
    "cm = ConfusionMatrixDisplay(confusion_matrix(y_test,y_pred))\n",
    "cm.plot()\n",
    "sens, spec = compute_sens_spec(cm)\n",
    "fpr_svm, tpr_svm, thr_svm = roc_curve(y_test, y_score, pos_label=pos_label)\n",
    "auc_svm = auc(fpr_svm, tpr_svm)\n",
    "\n",
    "print(\"Sensitivity: \" + str(round(sens,2)))\n",
    "print(\"Specificity: \" + str(round(spec,2)))\n",
    "print(\"AUC: \"+str(round(auc_svm,2)))\n",
    "\n",
    "model_imp = clf.coef_[0] #this is for SVM linear\n",
    "feature_names = list(X.columns.values)\n",
    "importance = list(abs(model_imp))\n",
    "importance_dict = {'Feature_names':feature_names, 'Importance':importance, 'Algorithm':'SVM', 'Gene':gene}\n",
    "imp_df = pd.DataFrame(importance_dict)\n",
    "imp_df_svm_ = imp_df.sort_values('Importance', ascending=False)\n",
    "imp_df_svm = imp_df_svm_.head(n_top_features)\n",
    "known, potential = get_potential_drms(imp_df, stanford_mut_list)\n",
    "print(\"No. of known DRMs: \"+str(len(known)))\n",
    "print(\"No. of other Mutations: \"+str(len(potential)))"
   ]
  },
  {
   "cell_type": "markdown",
   "id": "4159c39c-273a-4efe-aaef-f8d294631949",
   "metadata": {},
   "source": [
    "#### Random forest classifier"
   ]
  },
  {
   "cell_type": "code",
   "execution_count": 7,
   "id": "ed5b897b-e8fd-4de8-bf42-90425ad604e6",
   "metadata": {},
   "outputs": [
    {
     "name": "stdout",
     "output_type": "stream",
     "text": [
      "Sensitivity: 0.76\n",
      "Specificity: 0.99\n",
      "AUC: 0.98\n",
      "No. of known DRMs: 57\n",
      "No. of other Mutations: 543\n"
     ]
    },
    {
     "data": {
      "image/png": "[encoded data removed]",
      "text/plain": [
       "<Figure size 432x288 with 2 Axes>"
      ]
     },
     "metadata": {
      "needs_background": "light"
     },
     "output_type": "display_data"
    }
   ],
   "source": [
    "clf=RandomForestClassifier(n_estimators=100)\n",
    "clf.fit(X_train,y_train)\n",
    "y_pred=clf.predict(X_test)\n",
    "y_test_pred = clf.predict_proba(X_test)\n",
    "fpr_rf, tpr_rf, thr_rf = roc_curve(y_test, y_test_pred[:,1], pos_label=pos_label)\n",
    "auc_rf = auc(fpr_rf, tpr_rf)\n",
    "cm = ConfusionMatrixDisplay(confusion_matrix(y_test,y_pred))\n",
    "sens, spec = compute_sens_spec(cm)\n",
    "print(\"Sensitivity: \" + str(round(sens,2)))\n",
    "print(\"Specificity: \" + str(round(spec,2)))\n",
    "print(\"AUC: \"+str(round(auc_rf,2)))\n",
    "cm.plot()\n",
    "\n",
    "model_imp = clf.feature_importances_ #this is for RF and GBM\n",
    "feature_names = list(X.columns.values)\n",
    "importance = list(abs(model_imp))\n",
    "importance_dict = {'Feature_names':feature_names, 'Importance':importance, 'Algorithm':'RF', 'Gene':gene}\n",
    "imp_df = pd.DataFrame(importance_dict)\n",
    "imp_df_rf_ = imp_df.sort_values('Importance', ascending=False)\n",
    "imp_df_rf = imp_df_rf_.head(n_top_features)\n",
    "known, potential = get_potential_drms(imp_df, stanford_mut_list)\n",
    "print(\"No. of known DRMs: \"+str(len(known)))\n",
    "print(\"No. of other Mutations: \"+str(len(potential)))"
   ]
  },
  {
   "cell_type": "markdown",
   "id": "c867cf6a-a702-4e6e-a080-3a2d9847e9d7",
   "metadata": {},
   "source": [
    "#### Gradient Boosting Machines"
   ]
  },
  {
   "cell_type": "code",
   "execution_count": 8,
   "id": "3f7c7565-8389-4a1f-9c1d-9011cc7cf7a2",
   "metadata": {},
   "outputs": [
    {
     "name": "stdout",
     "output_type": "stream",
     "text": [
      "Sensitivity: 0.74\n",
      "Specificity: 0.99\n",
      "AUC: 0.98\n",
      "No. of known DRMs: 8\n",
      "No. of other Mutations: 127\n"
     ]
    },
    {
     "data": {
      "image/png": "[encoded data removed]",
      "text/plain": [
       "<Figure size 432x288 with 2 Axes>"
      ]
     },
     "metadata": {
      "needs_background": "light"
     },
     "output_type": "display_data"
    }
   ],
   "source": [
    "clf=GradientBoostingClassifier(n_estimators=100)\n",
    "clf.fit(X_train,y_train)\n",
    "y_pred=clf.predict(X_test)\n",
    "y_test_pred = clf.predict_proba(X_test)\n",
    "fpr_gb, tpr_gb, thr_gb = roc_curve(y_test, y_test_pred[:,1], pos_label=pos_label)\n",
    "auc_gb = auc(fpr_gb, tpr_gb)\n",
    "model_imp = clf.feature_importances_ #this is for RF and GBM\n",
    "feature_names = list(X.columns.values)\n",
    "importance = list(abs(model_imp))\n",
    "importance_dict = {'Feature_names':feature_names, 'Importance':importance, 'Algorithm':'GBM', 'Gene':gene}\n",
    "imp_df = pd.DataFrame(importance_dict)\n",
    "imp_df_gb_ = imp_df.sort_values('Importance', ascending=False)\n",
    "imp_df_gb = imp_df_gb_.head(n_top_features)\n",
    "\n",
    "cm = ConfusionMatrixDisplay(confusion_matrix(y_test,y_pred))\n",
    "sens, spec = compute_sens_spec(cm)\n",
    "print(\"Sensitivity: \" + str(round(sens,2)))\n",
    "print(\"Specificity: \" + str(round(spec,2)))\n",
    "print(\"AUC: \" + str(round(auc_gb,2)))\n",
    "cm.plot()\n",
    "\n",
    "known, potential = get_potential_drms(imp_df, stanford_mut_list)\n",
    "print(\"No. of known DRMs: \"+str(len(known)))\n",
    "print(\"No. of other Mutations: \"+str(len(potential)))"
   ]
  },
  {
   "cell_type": "code",
   "execution_count": 9,
   "id": "bfd744fa-7095-4c13-9f46-0979163192be",
   "metadata": {},
   "outputs": [],
   "source": [
    "list_imp = [imp_df_rf, imp_df_svm, imp_df_gb]\n",
    "list_imp\n",
    "imp_df = pd.concat(list_imp)    \n",
    "imp_df.head()\n",
    "\n",
    "plot = (ggplot(imp_df)\n",
    "    + aes(x='Feature_names', y='Importance', fill='Algorithm')\n",
    "    + geom_bar(stat=\"identity\")\n",
    "    + facet_wrap('~Algorithm', scales='free') #+ facet_wrap('~Algorithm', scales='free')\n",
    "    + theme(subplots_adjust={'wspace': 0.15})\n",
    "    + theme(panel_background=element_rect(fill='white'),\n",
    "            panel_border=element_rect(color='black',size=1),\n",
    "            axis_text_x=element_text(color='black', size=15, angle=0),\n",
    "            axis_text_y=element_text(color='black', size=15),\n",
    "            axis_title=element_text(color='black', size=20,weight='bold'),\n",
    "            legend_text=element_text(color='black', size=15),\n",
    "            legend_title=element_text(color='black', size=20,weight='bold'),\n",
    "            strip_text=element_text(color='black',size=20,weight='bold'),\n",
    "            strip_background=element_rect(color='black', fill=\"white\"),\n",
    "            \n",
    "      )\n",
    "    +scale_fill_manual(values = algor_colors)\n",
    "    +coord_flip()\n",
    "        +theme(legend_position=\"none\")\n",
    "    + ylab('Feature importance')\n",
    "    + xlab('Amino acid mutations'))\n",
    "#plot.save(gene+\"-importance-plot.png\", width=25, height=15, dpi=300)"
   ]
  },
  {
   "cell_type": "code",
   "execution_count": 10,
   "id": "c6233c8d-2b65-49f3-93e7-8f8a7b904831",
   "metadata": {},
   "outputs": [],
   "source": [
    "roc_dict_svm = {'FPR':fpr_svm, 'TPR':tpr_svm, 'Algorithm':'SVM', 'Gene':gene}\n",
    "roc_dict_svm = pd.DataFrame(roc_dict_svm)\n",
    "roc_dict_svm\n",
    "\n",
    "roc_dict_rf = {'FPR':fpr_rf, 'TPR':tpr_rf, 'Algorithm':'RF', 'Gene':gene}\n",
    "roc_df_rf = pd.DataFrame(roc_dict_rf)\n",
    "roc_df_rf\n",
    "\n",
    "\n",
    "roc_dict_gb = {'FPR':fpr_gb, 'TPR':tpr_gb, 'Algorithm':'GBM', 'Gene':gene}\n",
    "roc_df_gb = pd.DataFrame(roc_dict_gb)\n",
    "roc_df_gb\n",
    "\n",
    "\n",
    "list_roc = [roc_df_rf, roc_dict_svm, roc_df_gb]\n",
    "list_roc\n",
    "roc_df = pd.concat(list_roc)    \n",
    "roc_df.head()\n",
    "\n",
    "plot = (ggplot(roc_df)\n",
    "    + aes(x='FPR', y='TPR', color='Algorithm')\n",
    "    + geom_line(size=1)\n",
    "    + facet_wrap('~Algorithm', scales='free') #+ facet_wrap('~Algorithm', scales='free')\n",
    "    + theme(subplots_adjust={'wspace': 0.15})\n",
    "    + theme(panel_background=element_rect(fill='white'),\n",
    "            panel_border=element_rect(color='black',size=1.5),\n",
    "            axis_text_x=element_text(color='black', size=12, angle=0),\n",
    "            axis_text_y=element_text(color='black', size=12),\n",
    "            axis_title=element_text(color='black', size=15,weight='bold'),\n",
    "            legend_text=element_text(color='black', size=12),\n",
    "            legend_title=element_text(color='black', size=15,weight='bold'),\n",
    "            strip_text=element_text(color='black',size=15,weight='bold'),\n",
    "            strip_background=element_rect(color='black', fill=\"white\"),\n",
    "            \n",
    "      )\n",
    "    +scale_color_manual(values = algor_colors)\n",
    "        +theme(legend_position=\"none\")\n",
    "    + ylab('True Positive Rate')\n",
    "    + xlab('False Positive Rate'))\n",
    "#plot\n",
    "#plot.save(gene+\"-ROC-curve.png\", width=15, height=10, dpi=300)"
   ]
  }
 ],
 "metadata": {
  "kernelspec": {
   "display_name": "Python 3 (ipykernel)",
   "language": "python",
   "name": "python3"
  },
  "language_info": {
   "codemirror_mode": {
    "name": "ipython",
    "version": 3
   },
   "file_extension": ".py",
   "mimetype": "text/x-python",
   "name": "python",
   "nbconvert_exporter": "python",
   "pygments_lexer": "ipython3",
   "version": "3.9.1"
  }
 },
 "nbformat": 4,
 "nbformat_minor": 5
}
